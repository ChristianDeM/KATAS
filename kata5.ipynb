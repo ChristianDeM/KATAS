{
 "cells": [
  {
   "cell_type": "markdown",
   "metadata": {},
   "source": [
    "## Modulo\n",
    "### kata 4\n"
   ]
  },
  {
   "cell_type": "code",
   "execution_count": null,
   "metadata": {},
   "outputs": [],
   "source": [
    "tierra=149597870\n",
    "jupiter=778547200\n",
    "\n",
    "distancia=tierra-jupiter\n",
    "resta=distancia\n",
    "distancia=distancia*0.621\n",
    "print(resta)\n",
    "print(distancia)"
   ]
  },
  {
   "cell_type": "code",
   "execution_count": null,
   "metadata": {},
   "outputs": [],
   "source": [
    "Aplaneta = input(\"Cual planeta\")\n",
    "Bplaneta = input(\"Cual planeta\")\n",
    "\n",
    "AAplanet = int(Aplaneta)\n",
    "BBplanet = int(Bplaneta)\n",
    "\n",
    "distancia=AAplanet - BBplanet\n",
    "\n",
    "resta=distancia\n",
    "distancia=distancia*0.621\n",
    "print (resta)\n",
    "print (distancia)"
   ]
  }
 ],
 "metadata": {
  "interpreter": {
   "hash": "6cc4998eb36d1891514ca62118b95ffade44d1b90789d3416997df879f617e98"
  },
  "kernelspec": {
   "display_name": "Python 3.9.7 ('base')",
   "language": "python",
   "name": "python3"
  },
  "language_info": {
   "codemirror_mode": {
    "name": "ipython",
    "version": 3
   },
   "file_extension": ".py",
   "mimetype": "text/x-python",
   "name": "python",
   "nbconvert_exporter": "python",
   "pygments_lexer": "ipython3",
   "version": "3.9.10"
  },
  "orig_nbformat": 4
 },
 "nbformat": 4,
 "nbformat_minor": 2
}
