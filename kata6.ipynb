{
 "cells": [
  {
   "cell_type": "markdown",
   "metadata": {},
   "source": [
    "## Modulo\n",
    "### kata 6"
   ]
  },
  {
   "cell_type": "code",
   "execution_count": 10,
   "metadata": {},
   "outputs": [
    {
     "name": "stdout",
     "output_type": "stream",
     "text": [
      "pluton este es el ultimo planeta\n"
     ]
    }
   ],
   "source": [
    "planetas = ['Mercury','Venus','Earth','Mars','Jupiter','Saturn','Neptune']\n",
    "numerodeplantas=len(planetas)\n",
    "# print(numerodeplantas) imprime el numero de planetas  (7)\n",
    "planetas.append('pluton')\n",
    "numerodeplantas=len(planetas)\n",
    "# print(numerodeplantas) imprime el numero de planetas pero ahora con pluton  seria 8\n",
    "print(planetas[-1], 'este es el ultimo planeta')\n"
   ]
  },
  {
   "cell_type": "code",
   "execution_count": 12,
   "metadata": {},
   "outputs": [
    {
     "name": "stdout",
     "output_type": "stream",
     "text": [
      "este es el planeta mas sercano del sol Mercury\n",
      "[]\n"
     ]
    }
   ],
   "source": [
    "planetas = ['Mercury', 'Venus', 'Earth', 'Mars', 'Jupiter', 'Saturn', 'Neptune']\n",
    "nombreplaneta = input(\"dame el numbre del nuevo planeta\")\n",
    "nombreplanetaindex = planetas.index(nombreplaneta)\n",
    "print('este es el planeta mas sercano del sol ' + nombreplaneta)\n",
    "print(planetas[0:nombreplanetaindex])\n"
   ]
  }
 ],
 "metadata": {
  "interpreter": {
   "hash": "6cc4998eb36d1891514ca62118b95ffade44d1b90789d3416997df879f617e98"
  },
  "kernelspec": {
   "display_name": "Python 3.9.7 ('base')",
   "language": "python",
   "name": "python3"
  },
  "language_info": {
   "codemirror_mode": {
    "name": "ipython",
    "version": 3
   },
   "file_extension": ".py",
   "mimetype": "text/x-python",
   "name": "python",
   "nbconvert_exporter": "python",
   "pygments_lexer": "ipython3",
   "version": "3.9.10"
  },
  "orig_nbformat": 4
 },
 "nbformat": 4,
 "nbformat_minor": 2
}
